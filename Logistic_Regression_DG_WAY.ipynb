{
 "cells": [
  {
   "cell_type": "code",
   "execution_count": null,
   "metadata": {
    "collapsed": true
   },
   "outputs": [],
   "source": [
    "import csv\n",
    "import numpy as np\n",
    "import scipy as sp\n",
    "import matplotlib\n",
    "from matplotlib import pyplot as plt\n",
    "import math"
   ]
  },
  {
   "cell_type": "code",
   "execution_count": null,
   "metadata": {
    "collapsed": true
   },
   "outputs": [],
   "source": [
    "#############\n",
    "## DATA IO ##\n",
    "#############\n",
    "\n",
    "def get_data(filepath):\n",
    "    # Opens the file handler for the dataset file. Using variable 'f' we can access and manipulate our file anywhere in our code\n",
    "    # after the next code line.\n",
    "    f = open(\"iris_V2\",\"r\")\n",
    "\n",
    "   # Predictors Collection (or your input variable) (which in this case is just the duration of eruption)\n",
    "    X1 = []\n",
    "    X2 = []\n",
    "    X3 = []\n",
    "    X4 = []\n",
    "    \n",
    "    \n",
    "    # Output Response (or your output variable) (which in this case is the duration after which next eruption will occur.)\n",
    "    Y = []\n",
    "\n",
    "    # Initializing a reader generator using reader method from csv module. A reader generator takes each line from the file\n",
    "    # and converts it into list of columns.\n",
    "    reader = csv.reader(f)\n",
    "\n",
    "    # Using for loop, we are able to read one row at a time.\n",
    "    for row in reader:\n",
    "        if row[1]!=\"Sepal_Lth\":\n",
    "            X1.append(float(row[0]))\n",
    "            X2.append(float(row[1]))\n",
    "            X3.append(float(row[2]))\n",
    "            X4.append(float(row[3]))\n",
    "            Y.append(float(row[4]))\n",
    "\n",
    "    # Close the file once we have succesffuly stored all data into our X and Y variables.hgg\n",
    "    f.close()\n",
    "\n",
    "    return [[np.array(X1),np.array(X2),np.array(X3),np.array(X4),np.array(Y)]\n"
   ]
  },
  {
   "cell_type": "code",
   "execution_count": null,
   "metadata": {
    "collapsed": true
   },
   "outputs": [],
   "source": [
    "import math\n",
    "def sigmoid(value):\n",
    "    return (1/(1+math.exp(-value)))"
   ]
  },
  {
   "cell_type": "code",
   "execution_count": null,
   "metadata": {
    "collapsed": true
   },
   "outputs": [],
   "source": [
    "#####################\n",
    "## RSS Calculation ##\n",
    "#####################\n",
    "\n",
    "def RSS(x, y, beta_0,betas):\n",
    "    rss = 0\n",
    "    for i in range(x[0].shape[0]):\n",
    "        predicted_value = (betas[0] + (betas[1] * x[0][i])+(betas[2] * x[1])[i]+(betas[3] * x[2])[i]+(betas[4] * x[4][i])+(betas[5] *x[5] x[i])+(betas[6] *x[6] x[i]))\n",
    "        actual_value = y[i]\n",
    "        pred_val = (sigmoid(predicted_value))\n",
    "        rss = rss + ((-pred_val*np.log(pred_val))-((1-pred_val)*np.log(1-pred_val)))\n",
    "    return (rss/x[0].shape[0])"
   ]
  },
  {
   "cell_type": "code",
   "execution_count": null,
   "metadata": {
    "collapsed": true
   },
   "outputs": [],
   "source": [
    "def predicted_value_final(x,i,betas):\n",
    "        return 1/(1.0 + math.exp(-(betas[0] + (betas[1]*X[0][i]) + (betas[2]*X[1][i]) + (betas[3]*X[2][i]) + (betas[4]*X[3][i]))))"
   ]
  },
  {
   "cell_type": "code",
   "execution_count": null,
   "metadata": {
    "collapsed": true
   },
   "outputs": [],
   "source": [
    "def gradientDescentAlgorithm(x, y, learning_rate):\n",
    "    \n",
    "    print (\"Training Linear Regression Model using Gradient Descent\")\n",
    "    \n",
    "    maximum_iterations = 10000\n",
    "    \n",
    "    # This flag lets the program know wether the gradient descent algorithm has reached it's converged state which means wether \n",
    "    # the algorithm was able to find the local minima (where the slope of RSS wrt your parameters beta_0 and beta_1 is zero)\n",
    "    converge_status = False\n",
    "    \n",
    "    # num_rows stores the number of datapoints in the current dataset provided for training.\n",
    "    num_rows = x[0].shape[0]\n",
    "\n",
    "    # Initial Value of parameters \n",
    "    betas = [0,0,0,0,0]\n",
    "    \n",
    "    # Initial Error or RSS(beta_0,beta_1) based on the initial parameter values\n",
    "    #error = RSS(x, y, beta_0, beta_1)\n",
    "    error = Cost(x, y, betas)\n",
    "    print('Initial Value (Cost Function)=', error.shape);\n",
    "    \n",
    "    # Iterate Loop\n",
    "    num_iter = 0\n",
    "    while not converge_status:\n",
    "        # for each training sample, compute the gradient (d/d_beta j(beta))\n",
    "        gradient_0 = 1.0/num_rows * sum([(predicted_value_final(betas,x,i) - y[i]) for i in range(num_rows)]) \n",
    "        gradient_1 = 1.0/num_rows * sum([(predicted_value_final(betas,x,i) - y[i])*x[0][i] for i in range(num_rows)])\n",
    "        gradient_2 = 1.0/num_rows * sum([(predicted_value_final(betas,x,i) - y[i])*x[1][i] for i in range(num_rows)]) \n",
    "        gradient_3 = 1.0/num_rows * sum([(predicted_value_final(betas,x,i) - y[i])*x[2][i] for i in range(num_rows)])\n",
    "        gradient_4 = 1.0/num_rows * sum([(predicted_value_final(betas,x,i) - y[i])*x[3][i] for i in range(num_rows)]) \n",
    "\n",
    "\n",
    "        \n",
    "        \n",
    "        # Computation of new parameters according to the current gradient.\n",
    "        temp0 = betas[0] - learning_rate * gradient_0\n",
    "        temp1 = betas[1] - learning_rate * gradient_1\n",
    "        temp2 = betas[2] - learning_rate * gradient_2\n",
    "        temp3 = betas[3] - learning_rate * gradient_3\n",
    "        temp4 = betas[4] - learning_rate * gradient_4\n",
    "\n",
    "    \n",
    "        # Simultaneous Update of Parameters Beta_0 and Beta_1.\n",
    "        betas[0] = temp0\n",
    "        betas[1] = temp1\n",
    "        betas[2] = temp2\n",
    "        betas[3] = temp3\n",
    "        betas[4] = temp4\n",
    "\n",
    "\n",
    "        \n",
    "        current_error = Cost(x, y, betas)\n",
    "        \n",
    "        if num_iter % 1000 == 0:\n",
    "            print ('Current Value of RSS (Cost Function) based on updated values= ',  current_error)\n",
    "            \n",
    "        error = current_error   # update error \n",
    "        num_iter = num_iter + 1  # update iter\n",
    "    \n",
    "        if num_iter == maximum_iterations:\n",
    "            print (\"Training Interrupted as Maximum number of iterations were crossed.\\n\\n\")\n",
    "            converge_status = True\n",
    "    return [betas[0], betas[1],betas[2],betas[3],betas[4]]"
   ]
  }
 ],
 "metadata": {
  "kernelspec": {
   "display_name": "Python 3",
   "language": "python",
   "name": "python3"
  },
  "language_info": {
   "codemirror_mode": {
    "name": "ipython",
    "version": 3
   },
   "file_extension": ".py",
   "mimetype": "text/x-python",
   "name": "python",
   "nbconvert_exporter": "python",
   "pygments_lexer": "ipython3",
   "version": "3.6.3"
  }
 },
 "nbformat": 4,
 "nbformat_minor": 2
}
